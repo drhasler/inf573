{
 "cells": [
  {
   "cell_type": "code",
   "execution_count": 61,
   "metadata": {},
   "outputs": [
    {
     "name": "stdout",
     "output_type": "stream",
     "text": [
      "/home/mh/vids/Webcam ['2020-11-28-151731.webm']\n"
     ]
    }
   ],
   "source": [
    "import os\n",
    "\n",
    "import cv2\n",
    "\n",
    "\n",
    "DATA_DIR = os.environ.get('DATA_DIR',\n",
    "    '/home/mh/vids/Webcam') # default\n",
    "files = os.listdir(DATA_DIR)\n",
    "print(DATA_DIR, files)"
   ]
  },
  {
   "cell_type": "code",
   "execution_count": 62,
   "metadata": {},
   "outputs": [],
   "source": [
    "file = files[0]\n",
    "path = os.path.join(DATA_DIR, file)\n",
    "\n",
    "cap = cv2.VideoCapture(path)\n",
    "while 1:\n",
    "    ret, frame = cap.read()\n",
    "    if not ret: break\n",
    "    cv2.imshow('frame',frame)\n",
    "    if cv2.waitKey(30) != -1: break\n",
    "\n",
    "cap.release()\n",
    "cv2.destroyAllWindows()"
   ]
  },
  {
   "cell_type": "code",
   "execution_count": null,
   "metadata": {},
   "outputs": [],
   "source": []
  },
  {
   "cell_type": "code",
   "execution_count": null,
   "metadata": {},
   "outputs": [],
   "source": []
  }
 ],
 "metadata": {
  "kernelspec": {
   "display_name": "Python 3",
   "language": "python",
   "name": "python3"
  },
  "language_info": {
   "codemirror_mode": {
    "name": "ipython",
    "version": 3
   },
   "file_extension": ".py",
   "mimetype": "text/x-python",
   "name": "python",
   "nbconvert_exporter": "python",
   "pygments_lexer": "ipython3",
   "version": "3.8.0"
  }
 },
 "nbformat": 4,
 "nbformat_minor": 4
}
