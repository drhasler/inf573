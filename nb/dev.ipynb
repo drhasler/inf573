{
 "cells": [
  {
   "cell_type": "code",
   "execution_count": 1,
   "metadata": {},
   "outputs": [
    {
     "name": "stdout",
     "output_type": "stream",
     "text": [
      "Populating the interactive namespace from numpy and matplotlib\n"
     ]
    }
   ],
   "source": [
    "import os\n",
    "%pylab inline \n",
    "import sys\n",
    "\n",
    "import numpy as np\n",
    "import cv2\n",
    "import matplotlib.pyplot as plt\n",
    "from IPython.display import clear_output\n",
    "from PIL import Image"
   ]
  },
  {
   "cell_type": "code",
   "execution_count": 2,
   "metadata": {},
   "outputs": [
    {
     "name": "stdout",
     "output_type": "stream",
     "text": [
      "/mnt/c/Users/ptitg/Documents/@M1/INF_573/Project/Data ['Test1.avi', 'Test1.png']\n"
     ]
    }
   ],
   "source": [
    "# record at 640x480 to this folder\n",
    "DATA_DIR = os.environ.get('DATA_DIR',\n",
    "    '/mnt/c/Users/ptitg/Documents/@M1/INF_573/Project/Data') # default\n",
    "#     '/home/mh/vids/Webcam') # default\n",
    "sys.path.insert(0, '/mnt/c/Users/ptitg/Documents/@M1/INF_573/Project/src')\n",
    "\n",
    "files = os.listdir(DATA_DIR)\n",
    "print(DATA_DIR, files)"
   ]
  },
  {
   "cell_type": "markdown",
   "metadata": {},
   "source": [
    "# working with stream"
   ]
  },
  {
   "cell_type": "code",
   "execution_count": 3,
   "metadata": {
    "scrolled": false
   },
   "outputs": [
    {
     "name": "stdout",
     "output_type": "stream",
     "text": [
      "Released Video Resource\n"
     ]
    }
   ],
   "source": [
    "file = files[0]\n",
    "background = Image.open(os.path.join(DATA_DIR, files[1]))\n",
    "background = asarray(background)\n",
    "path = os.path.join(DATA_DIR, file)\n",
    "\n",
    "center = []\n",
    "\n",
    "from main import remove_background\n",
    "\n",
    "fps = 30\n",
    "dt = 1000 // 30 # slow down if processing is too fast\n",
    "# dt = 1 # only processing time\n",
    "\n",
    "cap = cv2.VideoCapture(path) # 0 for webcam\n",
    "try:\n",
    "    while(True):\n",
    "        # Capture frame-by-frame\n",
    "        ret, frame = cap.read()\n",
    "        if not ret:\n",
    "            cap.release()\n",
    "            print(\"Released Video Resource\")\n",
    "            break\n",
    "        edges = cv2.Canny(frame,100,200)\n",
    "        m1,m2,frame, C = remove_background(frame,background,.2)\n",
    "        # Convert the image from OpenCV BGR format to matplotlib RGB format to display the image\n",
    "        # Sinon j'arrivais pas à faire cv2.imshow()\n",
    "        frame = cv2.cvtColor(frame, cv2.COLOR_BGR2RGB)\n",
    "        if (C[0] != 0):\n",
    "            center.append(C)\n",
    "            \n",
    "        f = figure(figsize=(15,10))\n",
    "        subplot(131)\n",
    "        axis('off')\n",
    "        title(\"Mask\")\n",
    "        imshow(m2)\n",
    "#         show()\n",
    "        subplot(132)\n",
    "        axis('off')\n",
    "        title(\"Frame\")\n",
    "        imshow(frame)\n",
    "#         show()\n",
    "        subplot(133)\n",
    "        axis('off')\n",
    "        title(\"Edges\")\n",
    "        imshow(edges,cmap = 'gray')\n",
    "        show()\n",
    "        # Display the frame until new frame is available\n",
    "        clear_output(wait=True)\n",
    "except KeyboardInterrupt:\n",
    "    # Release the Video Device\n",
    "    cap.release()\n",
    "    # Message to be displayed after releasing the device\n",
    "    print(\"Released Video Resource\")\n",
    "# print(center)"
   ]
  },
  {
   "cell_type": "code",
   "execution_count": null,
   "metadata": {},
   "outputs": [],
   "source": [
    "# while 1:\n",
    "#     ret, frame = cap.read()\n",
    "#     print(ret)\n",
    "#     if not ret: break # end of stream\n",
    "    \n",
    "#     # do processing here\n",
    "        \n",
    "#     cv2.imshow('frame',frame)\n",
    "#     if cv2.waitKey(dt) != -1: break # keyboard interrupt\n",
    "\n",
    "# cap.release()\n",
    "# cv2.destroyAllWindows()"
   ]
  },
  {
   "cell_type": "code",
   "execution_count": null,
   "metadata": {},
   "outputs": [],
   "source": [
    "def edges(img):\n",
    "    #  absolute value of Roberts, Prewitt, and Sobel filters\n",
    "    # input: grayscale\n",
    "    pass\n",
    "\n",
    "# find head shoulders from "
   ]
  },
  {
   "cell_type": "markdown",
   "metadata": {},
   "source": [
    "# cython for perf"
   ]
  },
  {
   "cell_type": "code",
   "execution_count": null,
   "metadata": {},
   "outputs": [],
   "source": [
    "%pip install Cython\n",
    "%load_ext Cython"
   ]
  },
  {
   "cell_type": "code",
   "execution_count": null,
   "metadata": {
    "scrolled": true
   },
   "outputs": [],
   "source": [
    "%%cython --annotate\n",
    "\n",
    "# https://cython.readthedocs.io/en/latest/src/tutorial/numpy.html\n",
    "import numpy as np \n",
    "cimport numpy as np\n",
    "\n",
    "cdef int count_fast():\n",
    "    cdef int a = 0\n",
    "    cdef int i\n",
    "    for i in range(10):\n",
    "        a += i\n",
    "    return a"
   ]
  },
  {
   "cell_type": "code",
   "execution_count": null,
   "metadata": {},
   "outputs": [],
   "source": [
    "# normal python here\n",
    "count_fast()"
   ]
  },
  {
   "cell_type": "markdown",
   "metadata": {},
   "source": [
    "# working with frame array"
   ]
  },
  {
   "cell_type": "code",
   "execution_count": null,
   "metadata": {},
   "outputs": [],
   "source": [
    "cap = cv2.VideoCapture(path)\n",
    "\n",
    "frameCount = int(cap.get(cv2.CAP_PROP_FRAME_COUNT))\n",
    "frameWidth = int(cap.get(cv2.CAP_PROP_FRAME_WIDTH))\n",
    "frameHeight = int(cap.get(cv2.CAP_PROP_FRAME_HEIGHT))\n",
    "\n",
    "(cap.get(cv2.CAP_PROP_FRAME_HEIGHT))\n",
    "\n",
    "buf = np.empty((frameCount, frameHeight, frameWidth, 3), np.dtype('uint8'))\n",
    "\n",
    "for i in range(frameCount):\n",
    "    _, buf[i] = cap.read()\n",
    "\n",
    "cap.release()"
   ]
  },
  {
   "cell_type": "code",
   "execution_count": null,
   "metadata": {},
   "outputs": [],
   "source": [
    "import matplotlib.pyplot as plt\n",
    "\n",
    "# plt.imshow(cv2.cvtColor(buf[9], cv2.COLOR_BGR2RGB ))"
   ]
  },
  {
   "cell_type": "code",
   "execution_count": null,
   "metadata": {},
   "outputs": [],
   "source": []
  },
  {
   "cell_type": "code",
   "execution_count": null,
   "metadata": {},
   "outputs": [],
   "source": []
  }
 ],
 "metadata": {
  "kernelspec": {
   "display_name": "Python 3",
   "language": "python",
   "name": "python3"
  },
  "language_info": {
   "codemirror_mode": {
    "name": "ipython",
    "version": 3
   },
   "file_extension": ".py",
   "mimetype": "text/x-python",
   "name": "python",
   "nbconvert_exporter": "python",
   "pygments_lexer": "ipython3",
   "version": "3.8.0"
  }
 },
 "nbformat": 4,
 "nbformat_minor": 4
}
