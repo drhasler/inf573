{
 "cells": [
  {
   "cell_type": "code",
   "execution_count": 1,
   "metadata": {},
   "outputs": [],
   "source": [
    "import numpy as np\n",
    "import os\n",
    "import time\n",
    "\n",
    "import meshcat\n",
    "import meshcat.geometry as g\n",
    "import meshcat.transformations as tf"
   ]
  },
  {
   "cell_type": "markdown",
   "metadata": {},
   "source": [
    "# Meshcat showcase\n",
    "https://github.com/rdeits/meshcat-python/blob/master/examples/demo.ipynb"
   ]
  },
  {
   "cell_type": "code",
   "execution_count": 2,
   "metadata": {},
   "outputs": [
    {
     "name": "stdout",
     "output_type": "stream",
     "text": [
      "You can open the visualizer by visiting the following URL:\n",
      "http://127.0.0.1:7000/static/\n"
     ]
    }
   ],
   "source": [
    "vis = meshcat.Visualizer()"
   ]
  },
  {
   "cell_type": "code",
   "execution_count": 3,
   "metadata": {},
   "outputs": [
    {
     "name": "stdout",
     "output_type": "stream",
     "text": [
      "[303.87548638 182.57587549]\n"
     ]
    }
   ],
   "source": [
    "C = np.array([(321, 191), (320, 190), (320, 192), (320, 192), (321, 192), (322, 192), (324, 194), (324, 194), (324, 192), (325, 193), (327, 193), (327, 193), (326, 193), (328, 192), (327, 194), (327, 194), (327, 194), (330, 194), (330, 194), (330, 194), (330, 194), (329, 194), (328, 195), (330, 195), (332, 195), (332, 195), (330, 194), (331, 194), (330, 194), (330, 194), (330, 196), (330, 194), (329, 193), (329, 193), (329, 193), (329, 193), (327, 193), (328, 191), (328, 191), (327, 191), (326, 192), (328, 191), (326, 191), (326, 191), (326, 191), (327, 193), (326, 192), (326, 191), (326, 191), (325, 193), (325, 192), (325, 193), (325, 193), (325, 193), (323, 190), (322, 190), (322, 190), (322, 190), (321, 187), (320, 187), (320, 187), (320, 187), (320, 188), (320, 188), (320, 188), (319, 187), (319, 187), (316, 187), (314, 187), (312, 189), (312, 189), (307, 187), (301, 187), (295, 189), (287, 189), (287, 189), (278, 189), (270, 191), (262, 192), (262, 192), (253, 192), (246, 192), (237, 193), (237, 193), (229, 194), (222, 192), (215, 192), (215, 192), (210, 191), (208, 189), (203, 189), (203, 189), (201, 187), (198, 186), (199, 182), (199, 182), (199, 181), (202, 180), (202, 180), (205, 179), (207, 177), (211, 178), (211, 178), (214, 176), (219, 176), (219, 176), (227, 175), (230, 174), (230, 174), (239, 174), (247, 175), (255, 173), (255, 173), (265, 173), (274, 172), (274, 172), (286, 174), (297, 173), (304, 175), (304, 175), (311, 175), (321, 176), (321, 176), (330, 177), (338, 178), (347, 179), (347, 179), (353, 179), (360, 179), (366, 180), (366, 180), (375, 180), (381, 180), (386, 179), (386, 179), (393, 179), (397, 178), (402, 179), (402, 179), (406, 181), (410, 180), (414, 179), (414, 179), (414, 179), (418, 177), (417, 176), (417, 176), (415, 176), (415, 176), (411, 175), (407, 175), (405, 175), (401, 175), (401, 175), (393, 175), (386, 174), (378, 174), (371, 175), (371, 175), (363, 174), (356, 175), (346, 175), (338, 175), (338, 175), (331, 176), (325, 176), (317, 177), (309, 177), (309, 177), (302, 178), (296, 178), (289, 180), (285, 178), (285, 178), (278, 179), (276, 179), (271, 177), (269, 177), (269, 177), (268, 178), (268, 178), (267, 179), (267, 179), (268, 178), (269, 177), (269, 176), (269, 176), (270, 177), (271, 176), (271, 176), (270, 177), (271, 177), (271, 177), (271, 177), (268, 178), (266, 176), (262, 178), (262, 178), (258, 176), (254, 176), (252, 177), (252, 177), (250, 176), (249, 179), (249, 179), (253, 175), (252, 174), (254, 175), (253, 174), (255, 177), (255, 177), (252, 177), (255, 173), (258, 172), (263, 172), (266, 172), (266, 172), (272, 173), (277, 173), (283, 175), (290, 175), (290, 175), (295, 174), (300, 174), (304, 173), (308, 173), (313, 173), (313, 173), (313, 172), (313, 168), (313, 168), (303, 175), (311, 178), (311, 178), (305, 179), (304, 180), (312, 183), (312, 183), (306, 184), (304, 183), (304, 183), (304, 181), (302, 179), (302, 179), (305, 180), (306, 184), (306, 184), (306, 184), (308, 186), (309, 188), (309, 188), (311, 188), (311, 190), (312, 191), (312, 191), (311, 192), (312, 191)])\n",
    "print(C.mean(0))\n",
    "C = C-C.mean(0)\n",
    "C = C/200"
   ]
  },
  {
   "cell_type": "code",
   "execution_count": 6,
   "metadata": {},
   "outputs": [],
   "source": [
    "vis[\"robot\"].delete()\n",
    "\n",
    "vis[\"robot\"].set_object(g.Box([0.15, 0.35, 0.4]))\n",
    "vis[\"robot\"][\"head\"].set_object(g.Box([0.2, 0.2, 0.2]))\n",
    "vis[\"robot\"][\"head\"].set_transform(tf.translation_matrix([0, 0, 0.32]))\n",
    "vis[\"robot\"][\"arm_l\"].set_object(g.Box([0.1, 0.1, 0.3]))\n",
    "vis[\"robot\"][\"arm_l\"].set_transform(tf.translation_matrix([0, .25, 0]))\n",
    "vis[\"robot\"][\"arm_r\"].set_object(g.Box([0.1, 0.1, 0.3]))\n",
    "vis[\"robot\"][\"arm_r\"].set_transform(tf.translation_matrix([0, -.25, 0]))\n",
    "for x in C:\n",
    "    vis[\"robot\"].set_transform(tf.translation_matrix([0,x[0],x[1]]))\n",
    "    time.sleep(0.1)"
   ]
  },
  {
   "cell_type": "code",
   "execution_count": 5,
   "metadata": {},
   "outputs": [
    {
     "data": {
      "text/html": [
       "\n",
       "            <div style=\"height: 400px; width: 100%; overflow-x: auto; overflow-y: hidden; resize: both\">\n",
       "            <iframe src=\"http://127.0.0.1:7000/static/\" style=\"width: 100%; height: 100%; border: none\"></iframe>\n",
       "            </div>\n",
       "            "
      ],
      "text/plain": [
       "<IPython.core.display.HTML object>"
      ]
     },
     "execution_count": 5,
     "metadata": {},
     "output_type": "execute_result"
    }
   ],
   "source": [
    "vis.jupyter_cell()"
   ]
  },
  {
   "cell_type": "code",
   "execution_count": 5,
   "metadata": {},
   "outputs": [],
   "source": [
    "cart_pole = vis[\"cart_pole\"]\n",
    "cart_pole.delete()\n",
    "cart = cart_pole[\"cart\"]\n",
    "pivot = cart[\"pivot\"]\n",
    "pole = pivot[\"pole\"]\n",
    "cart.set_object(g.Box([0.5, 0.3, 0.2]))\n",
    "pole.set_object(g.Box([1, 0.05, 0.05]))\n",
    "pole.set_transform(tf.translation_matrix([0.5, 0, 0]))\n",
    "pivot.set_transform(tf.rotation_matrix(-np.pi/2, [0, 1, 0]))\n",
    "\n",
    "for x in np.linspace(-np.pi, np.pi, 200):\n",
    "    cart.set_transform(tf.translation_matrix([np.sin(x), 0, 0]))\n",
    "    pivot.set_transform(tf.rotation_matrix(x / 4 - np.pi / 2, [0, 1, 0]))\n",
    "    time.sleep(0.01)"
   ]
  },
  {
   "cell_type": "code",
   "execution_count": 6,
   "metadata": {},
   "outputs": [],
   "source": [
    "vis.delete()\n",
    "vis[\"robots/valkyrie/head\"].set_object(\n",
    "    g.ObjMeshGeometry.from_file(\n",
    "        os.path.join(meshcat.viewer_assets_path(), \"data/head_multisense.obj\")),\n",
    "    g.MeshLambertMaterial(\n",
    "        map=g.ImageTexture(\n",
    "            image=g.PngImage.from_file(\n",
    "                os.path.join(meshcat.viewer_assets_path(), \"data/HeadTextureMultisense.png\"))\n",
    "        )\n",
    "    )\n",
    ")"
   ]
  },
  {
   "cell_type": "code",
   "execution_count": null,
   "metadata": {},
   "outputs": [],
   "source": []
  }
 ],
 "metadata": {
  "kernelspec": {
   "display_name": "Python 3",
   "language": "python",
   "name": "python3"
  },
  "language_info": {
   "codemirror_mode": {
    "name": "ipython",
    "version": 3
   },
   "file_extension": ".py",
   "mimetype": "text/x-python",
   "name": "python",
   "nbconvert_exporter": "python",
   "pygments_lexer": "ipython3",
   "version": "3.7.7"
  }
 },
 "nbformat": 4,
 "nbformat_minor": 4
}
